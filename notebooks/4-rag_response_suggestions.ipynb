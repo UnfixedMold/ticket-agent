{
 "cells": [
  {
   "cell_type": "code",
   "execution_count": 1,
   "metadata": {},
   "outputs": [],
   "source": [
    "%load_ext autoreload\n",
    "%autoreload 2"
   ]
  },
  {
   "cell_type": "code",
   "execution_count": 2,
   "metadata": {},
   "outputs": [],
   "source": [
    "import os\n",
    "import sys\n",
    "\n",
    "project_root = os.path.abspath(os.path.join(os.getcwd(), \"..\"))\n",
    "if project_root not in sys.path:\n",
    "    sys.path.insert(0, project_root)\n",
    "    os.chdir(project_root)"
   ]
  },
  {
   "cell_type": "code",
   "execution_count": 3,
   "metadata": {},
   "outputs": [
    {
     "name": "stdout",
     "output_type": "stream",
     "text": [
      "GPU available: NVIDIA GeForce RTX 3060 Laptop GPU\n",
      "Number of GPUs: 1\n",
      "Using device: cuda\n"
     ]
    }
   ],
   "source": [
    "import torch\n",
    "\n",
    "if torch.cuda.is_available():\n",
    "    device = torch.device(\"cuda\")\n",
    "    print(f\"GPU available: {torch.cuda.get_device_name(0)}\")\n",
    "    print(f\"Number of GPUs: {torch.cuda.device_count()}\")\n",
    "else:\n",
    "    device = torch.device(\"cpu\")\n",
    "    print(\"GPU not available, using CPU\")\n",
    "\n",
    "print(f\"Using device: {device}\")"
   ]
  },
  {
   "cell_type": "code",
   "execution_count": 4,
   "metadata": {},
   "outputs": [
    {
     "data": {
      "text/plain": [
       "True"
      ]
     },
     "execution_count": 4,
     "metadata": {},
     "output_type": "execute_result"
    }
   ],
   "source": [
    "from dotenv import load_dotenv\n",
    "\n",
    "load_dotenv()"
   ]
  },
  {
   "cell_type": "code",
   "execution_count": 5,
   "metadata": {},
   "outputs": [],
   "source": [
    "import os\n",
    "\n",
    "from langsmith import Client\n",
    "\n",
    "client = Client()"
   ]
  },
  {
   "cell_type": "markdown",
   "metadata": {},
   "source": [
    "#### Load document"
   ]
  },
  {
   "cell_type": "markdown",
   "metadata": {},
   "source": [
    "##### docx"
   ]
  },
  {
   "cell_type": "code",
   "execution_count": 6,
   "metadata": {},
   "outputs": [
    {
     "data": {
      "text/plain": [
       "[PosixPath('/home/tufman/src/personal/ticket-agent/data/docs/company_overview.docx'),\n",
       " PosixPath('/home/tufman/src/personal/ticket-agent/data/docs/services_documentation.docx')]"
      ]
     },
     "execution_count": 6,
     "metadata": {},
     "output_type": "execute_result"
    }
   ],
   "source": [
    "from paths import DATA_DIR\n",
    "\n",
    "docx_files = list((DATA_DIR / \"docs\").glob(\"*.docx\"))\n",
    "\n",
    "docx_files"
   ]
  },
  {
   "cell_type": "code",
   "execution_count": 7,
   "metadata": {},
   "outputs": [
    {
     "data": {
      "text/plain": [
       "2"
      ]
     },
     "execution_count": 7,
     "metadata": {},
     "output_type": "execute_result"
    }
   ],
   "source": [
    "from langchain_community.document_loaders import Docx2txtLoader\n",
    "\n",
    "loaders = [Docx2txtLoader(file) for file in docx_files]\n",
    "\n",
    "docs = []\n",
    "for loader in loaders:\n",
    "    docs.extend(loader.load())\n",
    "\n",
    "len(docs)"
   ]
  },
  {
   "cell_type": "code",
   "execution_count": 8,
   "metadata": {},
   "outputs": [
    {
     "name": "stdout",
     "output_type": "stream",
     "text": [
      "EchoNova Audio – Paid Services Documentation\n",
      "\n",
      "\n",
      "\n",
      "1. Extended Warranty\n",
      "\n",
      "Description:\n",
      " Adds extra protection beyond the standard manufacturer’s warranty. Covers hardware defects, internal component failures, and general wear within coverage scope.\n",
      "\n",
      "Plans & Pricing:\n",
      "\n",
      "Coverage Length\n",
      "\n",
      "Price (per device)\n",
      "\n",
      "+1 year\n",
      "\n",
      "$19.99\n",
      "\n",
      "+2 years\n",
      "\n",
      "$34.99\n",
      "\n",
      "+3 years\n",
      "\n",
      "$49.99\n",
      "\n",
      "Included:\n",
      "\n",
      "Replacement or repair for eligible malfunctions\n",
      "\n",
      "\n",
      "Free two-way shipping for warranty claims\n",
      "\n",
      "\n",
      "24/7 access to warranty claim portal\n",
      "\n",
      "\n",
      "Exclusions:\n",
      "\n",
      "Accidental damage (use Device Protection Plan)\n",
      "\n",
      "\n",
      "Water or fire damage\n",
      "\n",
      "\n",
      "Cosmetic wear (scratches, dents)\n",
      "\n",
      "\n",
      "\n",
      "\n",
      "2. Device Protection Plan\n",
      "\n",
      "Description:\n",
      " Full accident coverage including drops, spills, water exposure, and cracked components. Covers repairs or one-time full replacement.\n",
      "\n",
      "Plans & Pricing (per device):\n",
      "\n",
      "Device Category\n",
      "\n",
      "Monthly\n",
      "\n",
      "Annual\n",
      "\n",
      "Headphones / Earbuds\n",
      "\n",
      "$4.99\n",
      "\n",
      "$49.99\n",
      "\n",
      "Portable Speakers (<$250)\n",
      "\n",
      "$5.99\n",
      "\n",
      "$59.99\n",
      "\n",
      "Premium Speakers (>$250)\n",
      "\n",
      "$7.99\n",
      "\n",
      "$79.99\n",
      "\n",
      "Included:\n",
      "\n",
      "Unlimited repairs for accidental damage\n",
      "\n",
      "\n",
      "1 device replacement per 12 months (if beyond repair)\n",
      "\n",
      "\n",
      "Dedicated protection claims line\n",
      "\n",
      "\n",
      "Exclusions:\n",
      "\n",
      "Lost or stolen devices\n",
      "\n",
      "\n",
      "Intentional damage\n",
      "\n",
      "\n",
      "Devices used commercially without business plan\n",
      "\n",
      "\n",
      "\n",
      "\n",
      "3. Music Streaming Bundle\n",
      "\n",
      "Description:\n",
      " Bundle EchoNova purchases with premium streaming access across platforms.\n",
      "\n",
      "Available Tiers:\n",
      "\n",
      "Tier\n",
      "\n",
      "Included Services\n",
      "\n",
      "Price\n",
      "\n",
      "Basic\n",
      "\n",
      "3-month Spotify Premium (1 user)\n",
      "\n",
      "$9.99\n",
      "\n",
      "Premium\n",
      "\n",
      "6-month Spotify + TIDAL Hi-Fi (1 user)\n",
      "\n",
      "$24.99\n",
      "\n",
      "Family Pro\n",
      "\n",
      "6-month Spotify Family (up to 5 users)\n",
      "\n",
      "$39.99\n",
      "\n",
      "Conditions:\n",
      "\n",
      "Redeem within 30 days of device activation\n",
      "\n",
      "\n",
      "Cannot be stacked or extended if user already has active plan\n",
      "\n",
      "\n",
      "Delivery:\n",
      "\n",
      "Digital code emailed upon product shipment\n",
      "\n",
      "\n",
      "\n",
      "\n",
      "4. Setup Assistance Service\n",
      "\n",
      "Description:\n",
      " Personalized remote setup session with an EchoNova audio specialist via video or screen-share.\n",
      "\n",
      "Pricing:\n",
      "\n",
      "Standard (30 min): $14.99\n",
      "\n",
      "\n",
      "Premium (60 min): $24.99\n",
      "\n",
      "\n",
      "Use Cases:\n",
      "\n",
      "Pairing devices with smart assistants (e.g. Alexa, Siri)\n",
      "\n",
      "\n",
      "App walkthrough and firmware updates\n",
      "\n",
      "\n",
      "Multi-room audio setup\n",
      "\n",
      "\n",
      "Troubleshooting during unboxing\n",
      "\n",
      "\n",
      "Availability:\n",
      "\n",
      "Sessions scheduled within 24–48 hrs after purchase\n",
      "\n",
      "\n",
      "Available in English, German, and French\n",
      "\n",
      "\n",
      "\n",
      "\n",
      "5. Premium Support Plan\n",
      "\n",
      "Description:\n",
      " Priority access to customer support and advanced troubleshooting for all EchoNova-purchased devices.\n",
      "\n",
      "Plans & Pricing:\n",
      "\n",
      "Coverage Duration\n",
      "\n",
      "Price\n",
      "\n",
      "6 months\n",
      "\n",
      "$14.99\n",
      "\n",
      "12 months\n",
      "\n",
      "$24.99\n",
      "\n",
      "Included Features:\n",
      "\n",
      "Skip-the-line phone & chat support\n",
      "\n",
      "\n",
      "Dedicated support agents with brand-specific training\n",
      "\n",
      "\n",
      "Direct access to product engineers for unresolved issues\n",
      "\n",
      "\n",
      "Faster RMA processing (1–2 business days)\n",
      "\n",
      "\n",
      "Bonus:\n",
      "\n",
      "Includes 1 free Setup Assistance Service session\n"
     ]
    }
   ],
   "source": [
    "print(docs[1].page_content)"
   ]
  },
  {
   "cell_type": "markdown",
   "metadata": {},
   "source": [
    "#### Split docs "
   ]
  },
  {
   "cell_type": "code",
   "execution_count": 9,
   "metadata": {},
   "outputs": [
    {
     "data": {
      "text/plain": [
       "11"
      ]
     },
     "execution_count": 9,
     "metadata": {},
     "output_type": "execute_result"
    }
   ],
   "source": [
    "from langchain_text_splitters import RecursiveCharacterTextSplitter\n",
    "\n",
    "text_splitter = RecursiveCharacterTextSplitter(\n",
    "    chunk_size=800, chunk_overlap=0, separators=[\"\\n\\n\\n\\n\", \"\\n\\n\", \"\\n\", \" \", \"\"]\n",
    ")\n",
    "\n",
    "splits = text_splitter.split_documents(docs)\n",
    "\n",
    "len(splits)"
   ]
  },
  {
   "cell_type": "code",
   "execution_count": 10,
   "metadata": {},
   "outputs": [
    {
     "name": "stdout",
     "output_type": "stream",
     "text": [
      "97\n",
      "Company Name: EchoNova Audio\n",
      " Document Title: Company Overview & Core Values\n",
      " Date: June 29, 2025\n",
      "----------------------------------------------------------------------------------------------------\n",
      "\n",
      "792\n",
      "Company Overview\n",
      "\n",
      "EchoNova Audio is a multinational retailer and support provider specializing in premium audio electronics and related services. We distribute world-class products such as wireless headphones, portable speakers, earbuds, and smart audio gear from top manufacturers including Sony, Bose, JBL, Apple, and Sennheiser.\n",
      "\n",
      "Operating across the United States and key European markets—such as Germany, France, the UK, Netherlands, and Sweden—we serve both individual consumers and corporate clients with a seamless customer experience, fast logistics, and industry-recognized service standards.\n",
      "\n",
      "We partner with respected B2B distributors such as TechDepot Europe, SmartAudio Direct, and HiFi Distribution Group, and also directly serve end users via our online and retail operations.\n",
      "----------------------------------------------------------------------------------------------------\n",
      "\n",
      "598\n",
      "Mission Statement\n",
      "\n",
      "To deliver premium audio solutions with industry-leading customer care, ensuring a smooth experience from purchase to long-term product support.\n",
      "\n",
      "\n",
      "\n",
      "Core Services\n",
      "\n",
      "Retail & Distribution: Headphones, speakers, and audio accessories from leading global brands.\n",
      "\n",
      "Paid Services: Extended warranties, device protection plans, music service bundles, and setup assistance.\n",
      "\n",
      "Customer Support: Specialized departments for Tech Support, Billing, Shipping, Legal, Sales, and Customer Care.\n",
      "\n",
      "B2B Sales: Reseller partnerships, corporate bulk orders, influencer campaigns, and gifting programs.\n",
      "----------------------------------------------------------------------------------------------------\n",
      "\n",
      "287\n",
      "Support Philosophy\n",
      "\n",
      "Our support system is tailored to accommodate all communication styles, urgency levels, and levels of technical knowledge. Whether a customer is confused, angry, casual, or formal—we adapt our response to solve the issue effectively while maintaining brand integrity.\n",
      "----------------------------------------------------------------------------------------------------\n",
      "\n",
      "577\n",
      "Core Values\n",
      "\n",
      "Responsiveness: Fast, tailored solutions based on department expertise and customer intent.\n",
      "\n",
      "Clarity: We value well-documented, transparent communication and processes.\n",
      "\n",
      "Respect: Every customer concern is valid, regardless of tone, language quality, or emotional state.\n",
      "\n",
      "Trust: We comply with global data protection standards (GDPR) and ensure secure, accountable billing and privacy practices.\n",
      "\n",
      "Flexibility: Our team handles complex or vague customer messages with empathy and critical thinking, rerouting as needed to resolve issues without unnecessary friction.\n",
      "----------------------------------------------------------------------------------------------------\n",
      "\n",
      "355\n",
      "Target Audiences\n",
      "\n",
      "Individual Consumers: Looking for high-quality audio gear and smooth support experiences.\n",
      "\n",
      "Corporate Buyers: Needing scalable, branded, or time-sensitive audio solutions.\n",
      "\n",
      "Resellers & Influencers: Seeking trusted supply chains and product access.\n",
      "\n",
      "All Users: From tech-savvy audiophiles to first-time customers needing step-by-step help.\n",
      "----------------------------------------------------------------------------------------------------\n",
      "\n",
      "615\n",
      "EchoNova Audio – Paid Services Documentation\n",
      "\n",
      "\n",
      "\n",
      "1. Extended Warranty\n",
      "\n",
      "Description:\n",
      " Adds extra protection beyond the standard manufacturer’s warranty. Covers hardware defects, internal component failures, and general wear within coverage scope.\n",
      "\n",
      "Plans & Pricing:\n",
      "\n",
      "Coverage Length\n",
      "\n",
      "Price (per device)\n",
      "\n",
      "+1 year\n",
      "\n",
      "$19.99\n",
      "\n",
      "+2 years\n",
      "\n",
      "$34.99\n",
      "\n",
      "+3 years\n",
      "\n",
      "$49.99\n",
      "\n",
      "Included:\n",
      "\n",
      "Replacement or repair for eligible malfunctions\n",
      "\n",
      "\n",
      "Free two-way shipping for warranty claims\n",
      "\n",
      "\n",
      "24/7 access to warranty claim portal\n",
      "\n",
      "\n",
      "Exclusions:\n",
      "\n",
      "Accidental damage (use Device Protection Plan)\n",
      "\n",
      "\n",
      "Water or fire damage\n",
      "\n",
      "\n",
      "Cosmetic wear (scratches, dents)\n",
      "----------------------------------------------------------------------------------------------------\n",
      "\n",
      "610\n",
      "2. Device Protection Plan\n",
      "\n",
      "Description:\n",
      " Full accident coverage including drops, spills, water exposure, and cracked components. Covers repairs or one-time full replacement.\n",
      "\n",
      "Plans & Pricing (per device):\n",
      "\n",
      "Device Category\n",
      "\n",
      "Monthly\n",
      "\n",
      "Annual\n",
      "\n",
      "Headphones / Earbuds\n",
      "\n",
      "$4.99\n",
      "\n",
      "$49.99\n",
      "\n",
      "Portable Speakers (<$250)\n",
      "\n",
      "$5.99\n",
      "\n",
      "$59.99\n",
      "\n",
      "Premium Speakers (>$250)\n",
      "\n",
      "$7.99\n",
      "\n",
      "$79.99\n",
      "\n",
      "Included:\n",
      "\n",
      "Unlimited repairs for accidental damage\n",
      "\n",
      "\n",
      "1 device replacement per 12 months (if beyond repair)\n",
      "\n",
      "\n",
      "Dedicated protection claims line\n",
      "\n",
      "\n",
      "Exclusions:\n",
      "\n",
      "Lost or stolen devices\n",
      "\n",
      "\n",
      "Intentional damage\n",
      "\n",
      "\n",
      "Devices used commercially without business plan\n",
      "----------------------------------------------------------------------------------------------------\n",
      "\n",
      "506\n",
      "3. Music Streaming Bundle\n",
      "\n",
      "Description:\n",
      " Bundle EchoNova purchases with premium streaming access across platforms.\n",
      "\n",
      "Available Tiers:\n",
      "\n",
      "Tier\n",
      "\n",
      "Included Services\n",
      "\n",
      "Price\n",
      "\n",
      "Basic\n",
      "\n",
      "3-month Spotify Premium (1 user)\n",
      "\n",
      "$9.99\n",
      "\n",
      "Premium\n",
      "\n",
      "6-month Spotify + TIDAL Hi-Fi (1 user)\n",
      "\n",
      "$24.99\n",
      "\n",
      "Family Pro\n",
      "\n",
      "6-month Spotify Family (up to 5 users)\n",
      "\n",
      "$39.99\n",
      "\n",
      "Conditions:\n",
      "\n",
      "Redeem within 30 days of device activation\n",
      "\n",
      "\n",
      "Cannot be stacked or extended if user already has active plan\n",
      "\n",
      "\n",
      "Delivery:\n",
      "\n",
      "Digital code emailed upon product shipment\n",
      "----------------------------------------------------------------------------------------------------\n",
      "\n",
      "481\n",
      "4. Setup Assistance Service\n",
      "\n",
      "Description:\n",
      " Personalized remote setup session with an EchoNova audio specialist via video or screen-share.\n",
      "\n",
      "Pricing:\n",
      "\n",
      "Standard (30 min): $14.99\n",
      "\n",
      "\n",
      "Premium (60 min): $24.99\n",
      "\n",
      "\n",
      "Use Cases:\n",
      "\n",
      "Pairing devices with smart assistants (e.g. Alexa, Siri)\n",
      "\n",
      "\n",
      "App walkthrough and firmware updates\n",
      "\n",
      "\n",
      "Multi-room audio setup\n",
      "\n",
      "\n",
      "Troubleshooting during unboxing\n",
      "\n",
      "\n",
      "Availability:\n",
      "\n",
      "Sessions scheduled within 24–48 hrs after purchase\n",
      "\n",
      "\n",
      "Available in English, German, and French\n",
      "----------------------------------------------------------------------------------------------------\n",
      "\n",
      "494\n",
      "5. Premium Support Plan\n",
      "\n",
      "Description:\n",
      " Priority access to customer support and advanced troubleshooting for all EchoNova-purchased devices.\n",
      "\n",
      "Plans & Pricing:\n",
      "\n",
      "Coverage Duration\n",
      "\n",
      "Price\n",
      "\n",
      "6 months\n",
      "\n",
      "$14.99\n",
      "\n",
      "12 months\n",
      "\n",
      "$24.99\n",
      "\n",
      "Included Features:\n",
      "\n",
      "Skip-the-line phone & chat support\n",
      "\n",
      "\n",
      "Dedicated support agents with brand-specific training\n",
      "\n",
      "\n",
      "Direct access to product engineers for unresolved issues\n",
      "\n",
      "\n",
      "Faster RMA processing (1–2 business days)\n",
      "\n",
      "\n",
      "Bonus:\n",
      "\n",
      "Includes 1 free Setup Assistance Service session\n",
      "----------------------------------------------------------------------------------------------------\n",
      "\n"
     ]
    }
   ],
   "source": [
    "for doc in splits:\n",
    "    print(len(doc.page_content))\n",
    "    print(doc.page_content + \"\\n\" + \"-\" * 100 + \"\\n\")"
   ]
  },
  {
   "cell_type": "markdown",
   "metadata": {},
   "source": [
    "#### Vector Store"
   ]
  },
  {
   "cell_type": "code",
   "execution_count": null,
   "metadata": {},
   "outputs": [],
   "source": [
    "from langchain_chroma import Chroma\n",
    "from langchain_huggingface import HuggingFaceEmbeddings\n",
    "from langsmith import Client\n",
    "\n",
    "client = Client()\n",
    "\n",
    "vectorstore = Chroma.from_documents(\n",
    "    documents=splits, embedding=HuggingFaceEmbeddings(model_name=\"all-mpnet-base-v2\")\n",
    ")"
   ]
  },
  {
   "cell_type": "code",
   "execution_count": null,
   "metadata": {},
   "outputs": [
    {
     "name": "stderr",
     "output_type": "stream",
     "text": [
      "Failed to send telemetry event CollectionQueryEvent: capture() takes 1 positional argument but 3 were given\n"
     ]
    },
    {
     "data": {
      "text/plain": [
       "[Document(id='d5db00ae-4ee9-4dd4-b880-e8b63ac6df5e', metadata={'source': '/home/tufman/src/personal/ticket-agent/data/docs/company_overview.docx'}, page_content='Company Name: EchoNova Audio\\n Document Title: Company Overview & Core Values\\n Date: June 29, 2025'),\n",
       " Document(id='53fb3b6c-6d3a-40e6-9b7a-33191008bbc1', metadata={'source': '/home/tufman/src/personal/ticket-agent/data/docs/company_overview.docx'}, page_content='Mission Statement\\n\\nTo deliver premium audio solutions with industry-leading customer care, ensuring a smooth experience from purchase to long-term product support.\\n\\n\\n\\nCore Services\\n\\nRetail & Distribution: Headphones, speakers, and audio accessories from leading global brands.\\n\\nPaid Services: Extended warranties, device protection plans, music service bundles, and setup assistance.\\n\\nCustomer Support: Specialized departments for Tech Support, Billing, Shipping, Legal, Sales, and Customer Care.\\n\\nB2B Sales: Reseller partnerships, corporate bulk orders, influencer campaigns, and gifting programs.')]"
      ]
     },
     "execution_count": 12,
     "metadata": {},
     "output_type": "execute_result"
    }
   ],
   "source": [
    "retriever = vectorstore.as_retriever(search_kwargs={\"k\": 2}, name=\"Ticket Agent\")\n",
    "\n",
    "results = retriever.invoke(\"What is the company name?\")\n",
    "\n",
    "results"
   ]
  },
  {
   "cell_type": "markdown",
   "metadata": {},
   "source": [
    "#### Multi Query Retriever"
   ]
  },
  {
   "cell_type": "code",
   "execution_count": null,
   "metadata": {},
   "outputs": [
    {
     "data": {
      "text/plain": [
       "[Document(id='d5db00ae-4ee9-4dd4-b880-e8b63ac6df5e', metadata={'source': '/home/tufman/src/personal/ticket-agent/data/docs/company_overview.docx'}, page_content='Company Name: EchoNova Audio\\n Document Title: Company Overview & Core Values\\n Date: June 29, 2025'),\n",
       " Document(id='53fb3b6c-6d3a-40e6-9b7a-33191008bbc1', metadata={'source': '/home/tufman/src/personal/ticket-agent/data/docs/company_overview.docx'}, page_content='Mission Statement\\n\\nTo deliver premium audio solutions with industry-leading customer care, ensuring a smooth experience from purchase to long-term product support.\\n\\n\\n\\nCore Services\\n\\nRetail & Distribution: Headphones, speakers, and audio accessories from leading global brands.\\n\\nPaid Services: Extended warranties, device protection plans, music service bundles, and setup assistance.\\n\\nCustomer Support: Specialized departments for Tech Support, Billing, Shipping, Legal, Sales, and Customer Care.\\n\\nB2B Sales: Reseller partnerships, corporate bulk orders, influencer campaigns, and gifting programs.')]"
      ]
     },
     "execution_count": 13,
     "metadata": {},
     "output_type": "execute_result"
    }
   ],
   "source": [
    "from langchain.retrievers.multi_query import MultiQueryRetriever\n",
    "from langchain_deepseek import ChatDeepSeek\n",
    "from langchain_openai import ChatOpenAI\n",
    "\n",
    "mq_llm = ChatOpenAI(temperature=0)\n",
    "\n",
    "mq_retriever = MultiQueryRetriever.from_llm(retriever=retriever, llm=mq_llm)\n",
    "\n",
    "mq_retriever.invoke(\"What is the company name?\")"
   ]
  },
  {
   "cell_type": "markdown",
   "metadata": {},
   "source": [
    "#### Generation"
   ]
  },
  {
   "cell_type": "code",
   "execution_count": null,
   "metadata": {},
   "outputs": [],
   "source": [
    "from langchain import hub\n",
    "from langchain_core.output_parsers import StrOutputParser\n",
    "from langchain_core.runnables import RunnablePassthrough\n",
    "\n",
    "rag_prompt = hub.pull(\"rlm/rag-prompt\")\n",
    "gen_llm = ChatDeepSeek(model=\"deepseek-chat\", temperature=0)\n",
    "\n",
    "\n",
    "def format_docs(docs):\n",
    "    return \"\\n\\n\".join(doc.page_content for doc in docs)\n",
    "\n",
    "\n",
    "chain = (\n",
    "    {\n",
    "        \"context\": mq_retriever | format_docs,\n",
    "        \"question\": RunnablePassthrough(),\n",
    "    }\n",
    "    | rag_prompt\n",
    "    | gen_llm\n",
    "    | StrOutputParser()\n",
    ")"
   ]
  },
  {
   "cell_type": "code",
   "execution_count": null,
   "metadata": {},
   "outputs": [
    {
     "name": "stdout",
     "output_type": "stream",
     "text": [
      "The company name is EchoNova Audio.\n"
     ]
    }
   ],
   "source": [
    "query = \"What is the company name?\"\n",
    "response = chain.invoke(query)\n",
    "print(response)"
   ]
  },
  {
   "cell_type": "markdown",
   "metadata": {},
   "source": [
    "#### Evaluation"
   ]
  },
  {
   "cell_type": "code",
   "execution_count": null,
   "metadata": {},
   "outputs": [],
   "source": [
    "general_docs_test_cases = [\n",
    "    (\"What is the name of the company?\", \"EchoNova Audio\"),\n",
    "    (\n",
    "        \"Which countries in Europe does EchoNova serve directly\",\n",
    "        \"Germany, France, UK, Netherlands, Sweden.\",\n",
    "    ),\n",
    "    (\n",
    "        \"What kind of audio products does EchoNova sell?\",\n",
    "        \"Wireless headphones, portable speakers, earbuds, smart audio gear.\",\n",
    "    ),\n",
    "    (\n",
    "        \"What are core values of the company?\",\n",
    "        \"Responsiveness, Clarity, Respect, Trust and Flexibility\",\n",
    "    ),\n",
    "    (\n",
    "        \"What does EchoNova mean by “Trust” in their core values?\",\n",
    "        \"Secure billing, GDPR compliance, and accountable privacy practices.\",\n",
    "    ),\n",
    "    (\n",
    "        \"What’s the main difference between the Extended Warranty and the Device Protection Plan?\",\n",
    "        \"Extended Warranty covers hardware/internal failures over time; Protection Plan covers accidental damage like drops or water.\",\n",
    "    ),\n",
    "    (\n",
    "        \"How much does it cost to protect a pair of headphones annually under the Device Protection Plan?\",\n",
    "        \"$49.99 per year.\",\n",
    "    ),\n",
    "    (\n",
    "        \"What’s included in the Premium Support Plan that speeds up issue resolution?\",\n",
    "        \"Priority phone/chat, brand-trained agents, engineer access, 1–2 day RMA.\",\n",
    "    ),\n",
    "    (\n",
    "        \"Can you get multiple Setup Assistance sessions in different languages?\",\n",
    "        \"Yes, sessions are available in English, German, and French.\",\n",
    "    ),\n",
    "]\n",
    "\n",
    "product_manual_test_cases = []"
   ]
  },
  {
   "cell_type": "code",
   "execution_count": null,
   "metadata": {},
   "outputs": [],
   "source": [
    "from ragas import EvaluationDataset\n",
    "\n",
    "dataset = []\n",
    "\n",
    "for query_set, class_label in [\n",
    "    (general_docs_test_cases, \"general\"),\n",
    "    (product_manual_test_cases, \"manual\"),\n",
    "]:\n",
    "    for query, reference in query_set:\n",
    "        dataset.append(\n",
    "            {\n",
    "                \"user_input\": query,\n",
    "                \"retrieved_contexts\": [\n",
    "                    doc.page_content for doc in mq_retriever.invoke(query)\n",
    "                ],\n",
    "                \"response\": chain.invoke(query),\n",
    "                \"reference\": reference,\n",
    "                \"metadata\": {\"class\": class_label},\n",
    "            }\n",
    "        )\n",
    "\n",
    "evaluation_dataset = EvaluationDataset.from_list(dataset)"
   ]
  },
  {
   "cell_type": "code",
   "execution_count": null,
   "metadata": {},
   "outputs": [
    {
     "data": {
      "text/plain": [
       "EvaluationDataset(features=['user_input', 'retrieved_contexts', 'response', 'reference'], len=2)"
      ]
     },
     "execution_count": 65,
     "metadata": {},
     "output_type": "execute_result"
    }
   ],
   "source": [
    "evaluation_dataset"
   ]
  },
  {
   "cell_type": "code",
   "execution_count": null,
   "metadata": {},
   "outputs": [
    {
     "data": {
      "application/vnd.jupyter.widget-view+json": {
       "model_id": "27dc4ecf5a444842bdd2adbefdb07ae1",
       "version_major": 2,
       "version_minor": 0
      },
      "text/plain": [
       "Evaluating:   0%|          | 0/6 [00:00<?, ?it/s]"
      ]
     },
     "metadata": {},
     "output_type": "display_data"
    }
   ],
   "source": [
    "from ragas import evaluate\n",
    "from ragas.metrics import AnswerAccuracy, ContextRelevance, ResponseGroundedness\n",
    "\n",
    "eval_llm = ChatDeepSeek(model=\"deepseek-chat\", temperature=0)\n",
    "\n",
    "\n",
    "result = evaluate(\n",
    "    dataset=evaluation_dataset,\n",
    "    metrics=[AnswerAccuracy(), ContextRelevance(), ResponseGroundedness()],\n",
    "    llm=eval_llm,\n",
    ").to_pandas()"
   ]
  },
  {
   "cell_type": "markdown",
   "metadata": {},
   "source": [
    "##### Results"
   ]
  },
  {
   "cell_type": "code",
   "execution_count": null,
   "metadata": {},
   "outputs": [
    {
     "data": {
      "text/plain": [
       "nv_accuracy                 1.0\n",
       "nv_context_relevance        1.0\n",
       "nv_response_groundedness    1.0\n",
       "dtype: float64"
      ]
     },
     "execution_count": 70,
     "metadata": {},
     "output_type": "execute_result"
    }
   ],
   "source": [
    "result.mean(numeric_only=True)"
   ]
  }
 ],
 "metadata": {
  "kernelspec": {
   "display_name": "ticket-agent",
   "language": "python",
   "name": "python3"
  },
  "language_info": {
   "codemirror_mode": {
    "name": "ipython",
    "version": 3
   },
   "file_extension": ".py",
   "mimetype": "text/x-python",
   "name": "python",
   "nbconvert_exporter": "python",
   "pygments_lexer": "ipython3",
   "version": "3.10.18"
  }
 },
 "nbformat": 4,
 "nbformat_minor": 2
}
