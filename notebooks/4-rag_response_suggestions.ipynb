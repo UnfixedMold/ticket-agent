{
 "cells": [
  {
   "cell_type": "code",
   "execution_count": 1,
   "metadata": {},
   "outputs": [],
   "source": [
    "%load_ext autoreload\n",
    "%autoreload 2"
   ]
  },
  {
   "cell_type": "code",
   "execution_count": 2,
   "metadata": {},
   "outputs": [],
   "source": [
    "import os\n",
    "import sys\n",
    "\n",
    "project_root = os.path.abspath(os.path.join(os.getcwd(), \"..\"))\n",
    "if project_root not in sys.path:\n",
    "    sys.path.insert(0, project_root)\n",
    "    os.chdir(project_root)"
   ]
  },
  {
   "cell_type": "code",
   "execution_count": 3,
   "metadata": {},
   "outputs": [
    {
     "name": "stdout",
     "output_type": "stream",
     "text": [
      "GPU available: NVIDIA GeForce RTX 3060 Laptop GPU\n",
      "Number of GPUs: 1\n",
      "Using device: cuda\n"
     ]
    }
   ],
   "source": [
    "import torch\n",
    "\n",
    "if torch.cuda.is_available():\n",
    "    device = torch.device(\"cuda\")\n",
    "    print(f\"GPU available: {torch.cuda.get_device_name(0)}\")\n",
    "    print(f\"Number of GPUs: {torch.cuda.device_count()}\")\n",
    "else:\n",
    "    device = torch.device(\"cpu\")\n",
    "    print(\"GPU not available, using CPU\")\n",
    "\n",
    "print(f\"Using device: {device}\")"
   ]
  },
  {
   "cell_type": "code",
   "execution_count": 4,
   "metadata": {},
   "outputs": [
    {
     "data": {
      "text/plain": [
       "True"
      ]
     },
     "execution_count": 4,
     "metadata": {},
     "output_type": "execute_result"
    }
   ],
   "source": [
    "from dotenv import load_dotenv\n",
    "\n",
    "load_dotenv()"
   ]
  },
  {
   "cell_type": "code",
   "execution_count": 5,
   "metadata": {},
   "outputs": [],
   "source": [
    "import os\n",
    "\n",
    "from langsmith import Client\n",
    "\n",
    "client = Client()"
   ]
  },
  {
   "cell_type": "markdown",
   "metadata": {},
   "source": [
    "#### Load document"
   ]
  },
  {
   "cell_type": "code",
   "execution_count": 6,
   "metadata": {},
   "outputs": [
    {
     "data": {
      "text/plain": [
       "[Document(metadata={'source': '/home/tufman/src/personal/ticket-agent/data/docs/company_overview.pdf', 'file_path': '/home/tufman/src/personal/ticket-agent/data/docs/company_overview.pdf', 'page': 0, 'total_pages': 2, 'Title': 'Untitled document', 'Producer': 'Skia/PDF m139 Google Docs Renderer'}, page_content='Company Name: EchoNova Audio\\nDocument Title: Company Overview & Core Values\\nDate: June 29, 2025\\nCompany Overview\\nEchoNova Audio is a multinational retailer and support provider specializing in premium\\naudio electronics and related services. We distribute world-class products such as wireless\\nheadphones, portable speakers, earbuds, and smart audio gear from top manufacturers\\nincluding Sony, Bose, JBL, Apple, and Sennheiser.\\nOperating across the United States and key European markets—such as Germany, France,\\nthe UK, Netherlands, and Sweden—we serve both individual consumers and corporate\\nclients with a seamless customer experience, fast logistics, and industry-recognized service\\nstandards.\\nWe partner with respected B2B distributors such as TechDepot Europe, SmartAudio Direct,\\nand HiFi Distribution Group, and also directly serve end users via our online and retail\\noperations.\\nMission Statement\\nTo deliver premium audio solutions with industry-leading customer care, ensuring a smooth\\nexperience from purchase to long-term product support.\\nCore Services\\n● Retail & Distribution: Headphones, speakers, and audio accessories from leading\\nglobal brands.\\n● Paid Services: Extended warranties, device protection plans, music service bundles,\\nand setup assistance.\\n● Customer Support: Specialized departments for Tech Support, Billing, Shipping,\\nLegal, Sales, and Customer Care.\\n● B2B Sales: Reseller partnerships, corporate bulk orders, influencer campaigns, and\\ngifting programs.\\nSupport Philosophy\\n'),\n",
       " Document(metadata={'source': '/home/tufman/src/personal/ticket-agent/data/docs/company_overview.pdf', 'file_path': '/home/tufman/src/personal/ticket-agent/data/docs/company_overview.pdf', 'page': 1, 'total_pages': 2, 'Title': 'Untitled document', 'Producer': 'Skia/PDF m139 Google Docs Renderer'}, page_content='Our support system is tailored to accommodate all communication styles, urgency levels,\\nand levels of technical knowledge. Whether a customer is confused, angry, casual, or\\nformal—we adapt our response to solve the issue effectively while maintaining brand\\nintegrity.\\nCore Values\\n● Responsiveness: Fast, tailored solutions based on department expertise and\\ncustomer intent.\\n● Clarity: We value well-documented, transparent communication and processes.\\n● Respect: Every customer concern is valid, regardless of tone, language quality, or\\nemotional state.\\n● Trust: We comply with global data protection standards (GDPR) and ensure secure,\\naccountable billing and privacy practices.\\n● Flexibility: Our team handles complex or vague customer messages with empathy\\nand critical thinking, rerouting as needed to resolve issues without unnecessary\\nfriction.\\nTarget Audiences\\n● Individual Consumers: Looking for high-quality audio gear and smooth support\\nexperiences.\\n● Corporate Buyers: Needing scalable, branded, or time-sensitive audio solutions.\\n● Resellers & Influencers: Seeking trusted supply chains and product access.\\n● All Users: From tech-savvy audiophiles to first-time customers needing step-by-step\\nhelp.\\n')]"
      ]
     },
     "execution_count": 6,
     "metadata": {},
     "output_type": "execute_result"
    }
   ],
   "source": [
    "from langchain_community.document_loaders import PDFPlumberLoader\n",
    "\n",
    "from paths import DATA_DIR\n",
    "\n",
    "pdf_loader = PDFPlumberLoader(DATA_DIR / \"docs\" / \"company_overview.pdf\")\n",
    "docs = pdf_loader.load()\n",
    "\n",
    "docs"
   ]
  },
  {
   "cell_type": "markdown",
   "metadata": {},
   "source": [
    "#### Split docs "
   ]
  },
  {
   "cell_type": "code",
   "execution_count": 7,
   "metadata": {},
   "outputs": [
    {
     "data": {
      "text/plain": [
       "[Document(metadata={'source': '/home/tufman/src/personal/ticket-agent/data/docs/company_overview.pdf', 'file_path': '/home/tufman/src/personal/ticket-agent/data/docs/company_overview.pdf', 'page': 0, 'total_pages': 2, 'Title': 'Untitled document', 'Producer': 'Skia/PDF m139 Google Docs Renderer'}, page_content='Company Name: EchoNova Audio\\nDocument Title: Company Overview & Core Values\\nDate: June 29, 2025\\nCompany Overview\\nEchoNova Audio is a multinational retailer and support provider specializing in premium\\naudio electronics and related services. We distribute world-class products such as wireless'),\n",
       " Document(metadata={'source': '/home/tufman/src/personal/ticket-agent/data/docs/company_overview.pdf', 'file_path': '/home/tufman/src/personal/ticket-agent/data/docs/company_overview.pdf', 'page': 0, 'total_pages': 2, 'Title': 'Untitled document', 'Producer': 'Skia/PDF m139 Google Docs Renderer'}, page_content='headphones, portable speakers, earbuds, and smart audio gear from top manufacturers\\nincluding Sony, Bose, JBL, Apple, and Sennheiser.\\nOperating across the United States and key European markets—such as Germany, France,\\nthe UK, Netherlands, and Sweden—we serve both individual consumers and corporate'),\n",
       " Document(metadata={'source': '/home/tufman/src/personal/ticket-agent/data/docs/company_overview.pdf', 'file_path': '/home/tufman/src/personal/ticket-agent/data/docs/company_overview.pdf', 'page': 0, 'total_pages': 2, 'Title': 'Untitled document', 'Producer': 'Skia/PDF m139 Google Docs Renderer'}, page_content='clients with a seamless customer experience, fast logistics, and industry-recognized service\\nstandards.\\nWe partner with respected B2B distributors such as TechDepot Europe, SmartAudio Direct,\\nand HiFi Distribution Group, and also directly serve end users via our online and retail\\noperations.'),\n",
       " Document(metadata={'source': '/home/tufman/src/personal/ticket-agent/data/docs/company_overview.pdf', 'file_path': '/home/tufman/src/personal/ticket-agent/data/docs/company_overview.pdf', 'page': 0, 'total_pages': 2, 'Title': 'Untitled document', 'Producer': 'Skia/PDF m139 Google Docs Renderer'}, page_content='operations.\\nMission Statement\\nTo deliver premium audio solutions with industry-leading customer care, ensuring a smooth\\nexperience from purchase to long-term product support.\\nCore Services\\n● Retail & Distribution: Headphones, speakers, and audio accessories from leading\\nglobal brands.'),\n",
       " Document(metadata={'source': '/home/tufman/src/personal/ticket-agent/data/docs/company_overview.pdf', 'file_path': '/home/tufman/src/personal/ticket-agent/data/docs/company_overview.pdf', 'page': 0, 'total_pages': 2, 'Title': 'Untitled document', 'Producer': 'Skia/PDF m139 Google Docs Renderer'}, page_content='global brands.\\n● Paid Services: Extended warranties, device protection plans, music service bundles,\\nand setup assistance.\\n● Customer Support: Specialized departments for Tech Support, Billing, Shipping,\\nLegal, Sales, and Customer Care.'),\n",
       " Document(metadata={'source': '/home/tufman/src/personal/ticket-agent/data/docs/company_overview.pdf', 'file_path': '/home/tufman/src/personal/ticket-agent/data/docs/company_overview.pdf', 'page': 0, 'total_pages': 2, 'Title': 'Untitled document', 'Producer': 'Skia/PDF m139 Google Docs Renderer'}, page_content='Legal, Sales, and Customer Care.\\n● B2B Sales: Reseller partnerships, corporate bulk orders, influencer campaigns, and\\ngifting programs.\\nSupport Philosophy'),\n",
       " Document(metadata={'source': '/home/tufman/src/personal/ticket-agent/data/docs/company_overview.pdf', 'file_path': '/home/tufman/src/personal/ticket-agent/data/docs/company_overview.pdf', 'page': 1, 'total_pages': 2, 'Title': 'Untitled document', 'Producer': 'Skia/PDF m139 Google Docs Renderer'}, page_content='Our support system is tailored to accommodate all communication styles, urgency levels,\\nand levels of technical knowledge. Whether a customer is confused, angry, casual, or\\nformal—we adapt our response to solve the issue effectively while maintaining brand\\nintegrity.\\nCore Values'),\n",
       " Document(metadata={'source': '/home/tufman/src/personal/ticket-agent/data/docs/company_overview.pdf', 'file_path': '/home/tufman/src/personal/ticket-agent/data/docs/company_overview.pdf', 'page': 1, 'total_pages': 2, 'Title': 'Untitled document', 'Producer': 'Skia/PDF m139 Google Docs Renderer'}, page_content='integrity.\\nCore Values\\n● Responsiveness: Fast, tailored solutions based on department expertise and\\ncustomer intent.\\n● Clarity: We value well-documented, transparent communication and processes.\\n● Respect: Every customer concern is valid, regardless of tone, language quality, or\\nemotional state.'),\n",
       " Document(metadata={'source': '/home/tufman/src/personal/ticket-agent/data/docs/company_overview.pdf', 'file_path': '/home/tufman/src/personal/ticket-agent/data/docs/company_overview.pdf', 'page': 1, 'total_pages': 2, 'Title': 'Untitled document', 'Producer': 'Skia/PDF m139 Google Docs Renderer'}, page_content='emotional state.\\n● Trust: We comply with global data protection standards (GDPR) and ensure secure,\\naccountable billing and privacy practices.\\n● Flexibility: Our team handles complex or vague customer messages with empathy'),\n",
       " Document(metadata={'source': '/home/tufman/src/personal/ticket-agent/data/docs/company_overview.pdf', 'file_path': '/home/tufman/src/personal/ticket-agent/data/docs/company_overview.pdf', 'page': 1, 'total_pages': 2, 'Title': 'Untitled document', 'Producer': 'Skia/PDF m139 Google Docs Renderer'}, page_content='and critical thinking, rerouting as needed to resolve issues without unnecessary\\nfriction.\\nTarget Audiences\\n● Individual Consumers: Looking for high-quality audio gear and smooth support\\nexperiences.\\n● Corporate Buyers: Needing scalable, branded, or time-sensitive audio solutions.'),\n",
       " Document(metadata={'source': '/home/tufman/src/personal/ticket-agent/data/docs/company_overview.pdf', 'file_path': '/home/tufman/src/personal/ticket-agent/data/docs/company_overview.pdf', 'page': 1, 'total_pages': 2, 'Title': 'Untitled document', 'Producer': 'Skia/PDF m139 Google Docs Renderer'}, page_content='● Resellers & Influencers: Seeking trusted supply chains and product access.\\n● All Users: From tech-savvy audiophiles to first-time customers needing step-by-step\\nhelp.')]"
      ]
     },
     "execution_count": 7,
     "metadata": {},
     "output_type": "execute_result"
    }
   ],
   "source": [
    "from langchain_text_splitters import RecursiveCharacterTextSplitter\n",
    "\n",
    "text_splitter = RecursiveCharacterTextSplitter(chunk_size=300, chunk_overlap=50)\n",
    "splits = text_splitter.split_documents(docs)\n",
    "\n",
    "splits"
   ]
  },
  {
   "cell_type": "markdown",
   "metadata": {},
   "source": [
    "#### Vector Store"
   ]
  },
  {
   "cell_type": "code",
   "execution_count": null,
   "metadata": {},
   "outputs": [
    {
     "name": "stderr",
     "output_type": "stream",
     "text": [
      "/tmp/ipykernel_36157/2516283342.py:8: LangChainDeprecationWarning: The class `HuggingFaceEmbeddings` was deprecated in LangChain 0.2.2 and will be removed in 1.0. An updated version of the class exists in the :class:`~langchain-huggingface package and should be used instead. To use it run `pip install -U :class:`~langchain-huggingface` and import as `from :class:`~langchain_huggingface import HuggingFaceEmbeddings``.\n",
      "  documents=splits, embedding=HuggingFaceEmbeddings(model_name=\"all-mpnet-base-v2\")\n",
      "Failed to send telemetry event ClientStartEvent: capture() takes 1 positional argument but 3 were given\n",
      "Failed to send telemetry event ClientCreateCollectionEvent: capture() takes 1 positional argument but 3 were given\n"
     ]
    }
   ],
   "source": [
    "from langchain_chroma import Chroma\n",
    "from langchain_huggingface import HuggingFaceEmbeddings\n",
    "from langsmith import Client\n",
    "\n",
    "client = Client()\n",
    "\n",
    "vectorstore = Chroma.from_documents(\n",
    "    documents=splits, embedding=HuggingFaceEmbeddings(model_name=\"all-mpnet-base-v2\")\n",
    ")"
   ]
  },
  {
   "cell_type": "code",
   "execution_count": 9,
   "metadata": {},
   "outputs": [
    {
     "name": "stderr",
     "output_type": "stream",
     "text": [
      "Failed to send telemetry event CollectionQueryEvent: capture() takes 1 positional argument but 3 were given\n"
     ]
    },
    {
     "data": {
      "text/plain": [
       "[Document(id='cedf929a-9490-4614-a62f-d3bfeb709b94', metadata={'source': '/home/tufman/src/personal/ticket-agent/data/docs/company_overview.pdf', 'total_pages': 2, 'Title': 'Untitled document', 'Producer': 'Skia/PDF m139 Google Docs Renderer', 'file_path': '/home/tufman/src/personal/ticket-agent/data/docs/company_overview.pdf', 'page': 0}, page_content='global brands.\\n● Paid Services: Extended warranties, device protection plans, music service bundles,\\nand setup assistance.\\n● Customer Support: Specialized departments for Tech Support, Billing, Shipping,\\nLegal, Sales, and Customer Care.'),\n",
       " Document(id='c2e9c302-8cf2-4527-bd37-f68f9af4903e', metadata={'source': '/home/tufman/src/personal/ticket-agent/data/docs/company_overview.pdf', 'total_pages': 2, 'page': 0, 'file_path': '/home/tufman/src/personal/ticket-agent/data/docs/company_overview.pdf', 'Producer': 'Skia/PDF m139 Google Docs Renderer', 'Title': 'Untitled document'}, page_content='Company Name: EchoNova Audio\\nDocument Title: Company Overview & Core Values\\nDate: June 29, 2025\\nCompany Overview\\nEchoNova Audio is a multinational retailer and support provider specializing in premium\\naudio electronics and related services. We distribute world-class products such as wireless'),\n",
       " Document(id='76e2229f-2d9a-4d0c-a11a-075ca93dabd9', metadata={'page': 0, 'file_path': '/home/tufman/src/personal/ticket-agent/data/docs/company_overview.pdf', 'source': '/home/tufman/src/personal/ticket-agent/data/docs/company_overview.pdf', 'total_pages': 2, 'Producer': 'Skia/PDF m139 Google Docs Renderer', 'Title': 'Untitled document'}, page_content='clients with a seamless customer experience, fast logistics, and industry-recognized service\\nstandards.\\nWe partner with respected B2B distributors such as TechDepot Europe, SmartAudio Direct,\\nand HiFi Distribution Group, and also directly serve end users via our online and retail\\noperations.'),\n",
       " Document(id='f024bc11-f2dc-464f-a4b8-d146f5c00beb', metadata={'total_pages': 2, 'source': '/home/tufman/src/personal/ticket-agent/data/docs/company_overview.pdf', 'Title': 'Untitled document', 'file_path': '/home/tufman/src/personal/ticket-agent/data/docs/company_overview.pdf', 'page': 0, 'Producer': 'Skia/PDF m139 Google Docs Renderer'}, page_content='operations.\\nMission Statement\\nTo deliver premium audio solutions with industry-leading customer care, ensuring a smooth\\nexperience from purchase to long-term product support.\\nCore Services\\n● Retail & Distribution: Headphones, speakers, and audio accessories from leading\\nglobal brands.')]"
      ]
     },
     "execution_count": 9,
     "metadata": {},
     "output_type": "execute_result"
    }
   ],
   "source": [
    "retriever = vectorstore.as_retriever(search_kwargs={\"k\": 4}, name=\"Ticket Agent\")\n",
    "\n",
    "results = retriever.invoke(\"What is the company name?\")\n",
    "\n",
    "results"
   ]
  },
  {
   "cell_type": "markdown",
   "metadata": {},
   "source": [
    "#### Generation"
   ]
  },
  {
   "cell_type": "code",
   "execution_count": 10,
   "metadata": {},
   "outputs": [],
   "source": [
    "from langchain import hub\n",
    "from langchain_core.output_parsers import StrOutputParser\n",
    "from langchain_core.runnables import RunnablePassthrough\n",
    "from langchain_deepseek import ChatDeepSeek\n",
    "\n",
    "llm = ChatDeepSeek(model=\"deepseek-chat\", temperature=0)\n",
    "rag_prompt = hub.pull(\"rlm/rag-prompt\")\n",
    "\n",
    "\n",
    "def format_docs(docs):\n",
    "    return \"\\n\\n\".join(doc.page_content for doc in docs)\n",
    "\n",
    "\n",
    "chain = (\n",
    "    {\n",
    "        \"context\": retriever | format_docs,\n",
    "        \"question\": RunnablePassthrough(),\n",
    "    }\n",
    "    | rag_prompt\n",
    "    | llm\n",
    "    | StrOutputParser()\n",
    ")"
   ]
  },
  {
   "cell_type": "code",
   "execution_count": 11,
   "metadata": {},
   "outputs": [
    {
     "data": {
      "text/plain": [
       "'The company name is **EchoNova Audio**. It is a multinational retailer specializing in premium audio electronics and related services. The company partners with global distributors and serves end users directly.'"
      ]
     },
     "execution_count": 11,
     "metadata": {},
     "output_type": "execute_result"
    }
   ],
   "source": [
    "chain.invoke(\"What is the company name?\")"
   ]
  }
 ],
 "metadata": {
  "kernelspec": {
   "display_name": "ticket-agent",
   "language": "python",
   "name": "python3"
  },
  "language_info": {
   "codemirror_mode": {
    "name": "ipython",
    "version": 3
   },
   "file_extension": ".py",
   "mimetype": "text/x-python",
   "name": "python",
   "nbconvert_exporter": "python",
   "pygments_lexer": "ipython3",
   "version": "3.10.18"
  }
 },
 "nbformat": 4,
 "nbformat_minor": 2
}
