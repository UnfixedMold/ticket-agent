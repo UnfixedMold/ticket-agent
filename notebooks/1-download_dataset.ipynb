{
 "cells": [
  {
   "cell_type": "code",
   "execution_count": 3,
   "metadata": {},
   "outputs": [
    {
     "name": "stdout",
     "output_type": "stream",
     "text": [
      "The autoreload extension is already loaded. To reload it, use:\n",
      "  %reload_ext autoreload\n"
     ]
    }
   ],
   "source": [
    "%load_ext autoreload\n",
    "%autoreload 2"
   ]
  },
  {
   "cell_type": "code",
   "execution_count": 4,
   "metadata": {},
   "outputs": [],
   "source": [
    "import os\n",
    "import sys\n",
    "\n",
    "project_root = os.path.abspath(os.path.join(os.getcwd(), \"..\"))\n",
    "if project_root not in sys.path:\n",
    "    sys.path.insert(0, project_root)\n",
    "    os.chdir(project_root)"
   ]
  },
  {
   "cell_type": "markdown",
   "metadata": {},
   "source": [
    "#### Download dataset"
   ]
  },
  {
   "cell_type": "code",
   "execution_count": 5,
   "metadata": {},
   "outputs": [
    {
     "name": "stdout",
     "output_type": "stream",
     "text": [
      "Dataset URL: https://www.kaggle.com/datasets/suraj520/customer-support-ticket-dataset\n"
     ]
    }
   ],
   "source": [
    "import kaggle\n",
    "from paths import DATA_DIR\n",
    "from dotenv import load_dotenv\n",
    "\n",
    "load_dotenv()\n",
    "kaggle.api.dataset_download_files('suraj520/customer-support-ticket-dataset', path=DATA_DIR, unzip=True)"
   ]
  },
  {
   "cell_type": "code",
   "execution_count": 6,
   "metadata": {},
   "outputs": [
    {
     "data": {
      "text/html": [
       "<div>\n",
       "<style scoped>\n",
       "    .dataframe tbody tr th:only-of-type {\n",
       "        vertical-align: middle;\n",
       "    }\n",
       "\n",
       "    .dataframe tbody tr th {\n",
       "        vertical-align: top;\n",
       "    }\n",
       "\n",
       "    .dataframe thead th {\n",
       "        text-align: right;\n",
       "    }\n",
       "</style>\n",
       "<table border=\"1\" class=\"dataframe\">\n",
       "  <thead>\n",
       "    <tr style=\"text-align: right;\">\n",
       "      <th></th>\n",
       "      <th>Ticket ID</th>\n",
       "      <th>Customer Name</th>\n",
       "      <th>Customer Email</th>\n",
       "      <th>Customer Age</th>\n",
       "      <th>Customer Gender</th>\n",
       "      <th>Product Purchased</th>\n",
       "      <th>Date of Purchase</th>\n",
       "      <th>Ticket Type</th>\n",
       "      <th>Ticket Subject</th>\n",
       "      <th>Ticket Description</th>\n",
       "      <th>Ticket Status</th>\n",
       "      <th>Resolution</th>\n",
       "      <th>Ticket Priority</th>\n",
       "      <th>Ticket Channel</th>\n",
       "      <th>First Response Time</th>\n",
       "      <th>Time to Resolution</th>\n",
       "      <th>Customer Satisfaction Rating</th>\n",
       "    </tr>\n",
       "  </thead>\n",
       "  <tbody>\n",
       "    <tr>\n",
       "      <th>0</th>\n",
       "      <td>1</td>\n",
       "      <td>Marisa Obrien</td>\n",
       "      <td>carrollallison@example.com</td>\n",
       "      <td>32</td>\n",
       "      <td>Other</td>\n",
       "      <td>GoPro Hero</td>\n",
       "      <td>2021-03-22</td>\n",
       "      <td>Technical issue</td>\n",
       "      <td>Product setup</td>\n",
       "      <td>I'm having an issue with the {product_purchase...</td>\n",
       "      <td>Pending Customer Response</td>\n",
       "      <td>NaN</td>\n",
       "      <td>Critical</td>\n",
       "      <td>Social media</td>\n",
       "      <td>2023-06-01 12:15:36</td>\n",
       "      <td>NaN</td>\n",
       "      <td>NaN</td>\n",
       "    </tr>\n",
       "    <tr>\n",
       "      <th>1</th>\n",
       "      <td>2</td>\n",
       "      <td>Jessica Rios</td>\n",
       "      <td>clarkeashley@example.com</td>\n",
       "      <td>42</td>\n",
       "      <td>Female</td>\n",
       "      <td>LG Smart TV</td>\n",
       "      <td>2021-05-22</td>\n",
       "      <td>Technical issue</td>\n",
       "      <td>Peripheral compatibility</td>\n",
       "      <td>I'm having an issue with the {product_purchase...</td>\n",
       "      <td>Pending Customer Response</td>\n",
       "      <td>NaN</td>\n",
       "      <td>Critical</td>\n",
       "      <td>Chat</td>\n",
       "      <td>2023-06-01 16:45:38</td>\n",
       "      <td>NaN</td>\n",
       "      <td>NaN</td>\n",
       "    </tr>\n",
       "    <tr>\n",
       "      <th>2</th>\n",
       "      <td>3</td>\n",
       "      <td>Christopher Robbins</td>\n",
       "      <td>gonzalestracy@example.com</td>\n",
       "      <td>48</td>\n",
       "      <td>Other</td>\n",
       "      <td>Dell XPS</td>\n",
       "      <td>2020-07-14</td>\n",
       "      <td>Technical issue</td>\n",
       "      <td>Network problem</td>\n",
       "      <td>I'm facing a problem with my {product_purchase...</td>\n",
       "      <td>Closed</td>\n",
       "      <td>Case maybe show recently my computer follow.</td>\n",
       "      <td>Low</td>\n",
       "      <td>Social media</td>\n",
       "      <td>2023-06-01 11:14:38</td>\n",
       "      <td>2023-06-01 18:05:38</td>\n",
       "      <td>3.0</td>\n",
       "    </tr>\n",
       "    <tr>\n",
       "      <th>3</th>\n",
       "      <td>4</td>\n",
       "      <td>Christina Dillon</td>\n",
       "      <td>bradleyolson@example.org</td>\n",
       "      <td>27</td>\n",
       "      <td>Female</td>\n",
       "      <td>Microsoft Office</td>\n",
       "      <td>2020-11-13</td>\n",
       "      <td>Billing inquiry</td>\n",
       "      <td>Account access</td>\n",
       "      <td>I'm having an issue with the {product_purchase...</td>\n",
       "      <td>Closed</td>\n",
       "      <td>Try capital clearly never color toward story.</td>\n",
       "      <td>Low</td>\n",
       "      <td>Social media</td>\n",
       "      <td>2023-06-01 07:29:40</td>\n",
       "      <td>2023-06-01 01:57:40</td>\n",
       "      <td>3.0</td>\n",
       "    </tr>\n",
       "    <tr>\n",
       "      <th>4</th>\n",
       "      <td>5</td>\n",
       "      <td>Alexander Carroll</td>\n",
       "      <td>bradleymark@example.com</td>\n",
       "      <td>67</td>\n",
       "      <td>Female</td>\n",
       "      <td>Autodesk AutoCAD</td>\n",
       "      <td>2020-02-04</td>\n",
       "      <td>Billing inquiry</td>\n",
       "      <td>Data loss</td>\n",
       "      <td>I'm having an issue with the {product_purchase...</td>\n",
       "      <td>Closed</td>\n",
       "      <td>West decision evidence bit.</td>\n",
       "      <td>Low</td>\n",
       "      <td>Email</td>\n",
       "      <td>2023-06-01 00:12:42</td>\n",
       "      <td>2023-06-01 19:53:42</td>\n",
       "      <td>1.0</td>\n",
       "    </tr>\n",
       "  </tbody>\n",
       "</table>\n",
       "</div>"
      ],
      "text/plain": [
       "   Ticket ID        Customer Name              Customer Email  Customer Age  \\\n",
       "0          1        Marisa Obrien  carrollallison@example.com            32   \n",
       "1          2         Jessica Rios    clarkeashley@example.com            42   \n",
       "2          3  Christopher Robbins   gonzalestracy@example.com            48   \n",
       "3          4     Christina Dillon    bradleyolson@example.org            27   \n",
       "4          5    Alexander Carroll     bradleymark@example.com            67   \n",
       "\n",
       "  Customer Gender Product Purchased Date of Purchase      Ticket Type  \\\n",
       "0           Other        GoPro Hero       2021-03-22  Technical issue   \n",
       "1          Female       LG Smart TV       2021-05-22  Technical issue   \n",
       "2           Other          Dell XPS       2020-07-14  Technical issue   \n",
       "3          Female  Microsoft Office       2020-11-13  Billing inquiry   \n",
       "4          Female  Autodesk AutoCAD       2020-02-04  Billing inquiry   \n",
       "\n",
       "             Ticket Subject  \\\n",
       "0             Product setup   \n",
       "1  Peripheral compatibility   \n",
       "2           Network problem   \n",
       "3            Account access   \n",
       "4                 Data loss   \n",
       "\n",
       "                                  Ticket Description  \\\n",
       "0  I'm having an issue with the {product_purchase...   \n",
       "1  I'm having an issue with the {product_purchase...   \n",
       "2  I'm facing a problem with my {product_purchase...   \n",
       "3  I'm having an issue with the {product_purchase...   \n",
       "4  I'm having an issue with the {product_purchase...   \n",
       "\n",
       "               Ticket Status                                     Resolution  \\\n",
       "0  Pending Customer Response                                            NaN   \n",
       "1  Pending Customer Response                                            NaN   \n",
       "2                     Closed   Case maybe show recently my computer follow.   \n",
       "3                     Closed  Try capital clearly never color toward story.   \n",
       "4                     Closed                    West decision evidence bit.   \n",
       "\n",
       "  Ticket Priority Ticket Channel  First Response Time   Time to Resolution  \\\n",
       "0        Critical   Social media  2023-06-01 12:15:36                  NaN   \n",
       "1        Critical           Chat  2023-06-01 16:45:38                  NaN   \n",
       "2             Low   Social media  2023-06-01 11:14:38  2023-06-01 18:05:38   \n",
       "3             Low   Social media  2023-06-01 07:29:40  2023-06-01 01:57:40   \n",
       "4             Low          Email  2023-06-01 00:12:42  2023-06-01 19:53:42   \n",
       "\n",
       "   Customer Satisfaction Rating  \n",
       "0                           NaN  \n",
       "1                           NaN  \n",
       "2                           3.0  \n",
       "3                           3.0  \n",
       "4                           1.0  "
      ]
     },
     "execution_count": 6,
     "metadata": {},
     "output_type": "execute_result"
    }
   ],
   "source": [
    "import pandas as pd\n",
    "\n",
    "data_path =DATA_DIR / \"customer_support_tickets.csv\"\n",
    "\n",
    "df = pd.read_csv(data_path)\n",
    "\n",
    "df.head()"
   ]
  },
  {
   "cell_type": "code",
   "execution_count": 7,
   "metadata": {},
   "outputs": [
    {
     "data": {
      "text/plain": [
       "Index(['Ticket ID', 'Customer Name', 'Customer Email', 'Customer Age',\n",
       "       'Customer Gender', 'Product Purchased', 'Date of Purchase',\n",
       "       'Ticket Type', 'Ticket Subject', 'Ticket Description', 'Ticket Status',\n",
       "       'Resolution', 'Ticket Priority', 'Ticket Channel',\n",
       "       'First Response Time', 'Time to Resolution',\n",
       "       'Customer Satisfaction Rating'],\n",
       "      dtype='object')"
      ]
     },
     "execution_count": 7,
     "metadata": {},
     "output_type": "execute_result"
    }
   ],
   "source": [
    "df.columns"
   ]
  },
  {
   "cell_type": "code",
   "execution_count": 8,
   "metadata": {},
   "outputs": [
    {
     "data": {
      "text/plain": [
       "(8469, 17)"
      ]
     },
     "execution_count": 8,
     "metadata": {},
     "output_type": "execute_result"
    }
   ],
   "source": [
    "df.shape"
   ]
  }
 ],
 "metadata": {
  "kernelspec": {
   "display_name": "Python 3",
   "language": "python",
   "name": "python3"
  },
  "language_info": {
   "codemirror_mode": {
    "name": "ipython",
    "version": 3
   },
   "file_extension": ".py",
   "mimetype": "text/x-python",
   "name": "python",
   "nbconvert_exporter": "python",
   "pygments_lexer": "ipython3",
   "version": "3.10.18"
  }
 },
 "nbformat": 4,
 "nbformat_minor": 2
}
